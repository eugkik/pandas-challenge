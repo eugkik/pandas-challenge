{
 "cells": [
  {
   "cell_type": "code",
   "execution_count": 1,
   "id": "56592b14",
   "metadata": {},
   "outputs": [],
   "source": [
    "# Dependencies and Setup\n",
    "import pandas as pd\n",
    "\n",
    "# File to Load (Remember to Change These)\n",
    "file_to_load = \"Resources/purchase_data.csv\"\n",
    "\n",
    "# Read Purchasing File and store into Pandas data frame\n",
    "purchase_data = pd.read_csv(file_to_load)"
   ]
  },
  {
   "cell_type": "markdown",
   "id": "163b4852",
   "metadata": {},
   "source": [
    "# Player Count"
   ]
  },
  {
   "cell_type": "code",
   "execution_count": 2,
   "id": "513c2ced",
   "metadata": {},
   "outputs": [],
   "source": [
    "# Find count of unique SN\n",
    "player_count = purchase_data[\"SN\"].nunique()"
   ]
  },
  {
   "cell_type": "code",
   "execution_count": 3,
   "id": "4156909e",
   "metadata": {},
   "outputs": [],
   "source": [
    "# Create new dataframe\n",
    "total_players_df = pd.DataFrame({\"Total Players\": [player_count]})"
   ]
  },
  {
   "cell_type": "code",
   "execution_count": 4,
   "id": "fb55afc4",
   "metadata": {},
   "outputs": [
    {
     "data": {
      "text/html": [
       "<div>\n",
       "<style scoped>\n",
       "    .dataframe tbody tr th:only-of-type {\n",
       "        vertical-align: middle;\n",
       "    }\n",
       "\n",
       "    .dataframe tbody tr th {\n",
       "        vertical-align: top;\n",
       "    }\n",
       "\n",
       "    .dataframe thead th {\n",
       "        text-align: right;\n",
       "    }\n",
       "</style>\n",
       "<table border=\"1\" class=\"dataframe\">\n",
       "  <thead>\n",
       "    <tr style=\"text-align: right;\">\n",
       "      <th></th>\n",
       "      <th>Total Players</th>\n",
       "    </tr>\n",
       "  </thead>\n",
       "  <tbody>\n",
       "    <tr>\n",
       "      <th>0</th>\n",
       "      <td>576</td>\n",
       "    </tr>\n",
       "  </tbody>\n",
       "</table>\n",
       "</div>"
      ],
      "text/plain": [
       "   Total Players\n",
       "0            576"
      ]
     },
     "execution_count": 4,
     "metadata": {},
     "output_type": "execute_result"
    }
   ],
   "source": [
    "# Dispaly dataframe\n",
    "total_players_df"
   ]
  },
  {
   "cell_type": "markdown",
   "id": "96bed0e4",
   "metadata": {},
   "source": [
    "# Purchasing Analysis (Total)"
   ]
  },
  {
   "cell_type": "code",
   "execution_count": 5,
   "id": "bf2a684a",
   "metadata": {},
   "outputs": [],
   "source": [
    "# Find count of unique items\n",
    "unique_items = purchase_data[\"Item Name\"].nunique()"
   ]
  },
  {
   "cell_type": "code",
   "execution_count": 6,
   "id": "35a21186",
   "metadata": {},
   "outputs": [],
   "source": [
    "# Find average price of all items\n",
    "average_price = purchase_data[\"Price\"].mean()"
   ]
  },
  {
   "cell_type": "code",
   "execution_count": 7,
   "id": "219b448a",
   "metadata": {},
   "outputs": [],
   "source": [
    "# Find count of purchases\n",
    "number_of_purchases = purchase_data[\"Price\"].count()"
   ]
  },
  {
   "cell_type": "code",
   "execution_count": 8,
   "id": "368bc2cb",
   "metadata": {},
   "outputs": [],
   "source": [
    "# Find sum of all purchases\n",
    "total_revenue = purchase_data[\"Price\"].sum()"
   ]
  },
  {
   "cell_type": "code",
   "execution_count": 9,
   "id": "f9e50313",
   "metadata": {},
   "outputs": [],
   "source": [
    "# Create new dataframe\n",
    "purchase_summary_df = pd.DataFrame({\"Number of Unique Items\": [unique_items],\n",
    "                                    \"Average Price\" : [average_price],\n",
    "                                    \"Number of Purchases\": [number_of_purchases],\n",
    "                                    \"Total Revenue\": [total_revenue]\n",
    "                                   })"
   ]
  },
  {
   "cell_type": "code",
   "execution_count": 10,
   "id": "59362e9d",
   "metadata": {},
   "outputs": [],
   "source": [
    "# Format currency values\n",
    "purchase_summary_df[\"Average Price\"] = purchase_summary_df[\"Average Price\"].map(\"${:.2f}\".format)\n",
    "purchase_summary_df[\"Total Revenue\"] = purchase_summary_df[\"Total Revenue\"].map(\"${:,.2f}\".format)"
   ]
  },
  {
   "cell_type": "code",
   "execution_count": 11,
   "id": "8278aee6",
   "metadata": {},
   "outputs": [
    {
     "data": {
      "text/html": [
       "<div>\n",
       "<style scoped>\n",
       "    .dataframe tbody tr th:only-of-type {\n",
       "        vertical-align: middle;\n",
       "    }\n",
       "\n",
       "    .dataframe tbody tr th {\n",
       "        vertical-align: top;\n",
       "    }\n",
       "\n",
       "    .dataframe thead th {\n",
       "        text-align: right;\n",
       "    }\n",
       "</style>\n",
       "<table border=\"1\" class=\"dataframe\">\n",
       "  <thead>\n",
       "    <tr style=\"text-align: right;\">\n",
       "      <th></th>\n",
       "      <th>Number of Unique Items</th>\n",
       "      <th>Average Price</th>\n",
       "      <th>Number of Purchases</th>\n",
       "      <th>Total Revenue</th>\n",
       "    </tr>\n",
       "  </thead>\n",
       "  <tbody>\n",
       "    <tr>\n",
       "      <th>0</th>\n",
       "      <td>179</td>\n",
       "      <td>$3.05</td>\n",
       "      <td>780</td>\n",
       "      <td>$2,379.77</td>\n",
       "    </tr>\n",
       "  </tbody>\n",
       "</table>\n",
       "</div>"
      ],
      "text/plain": [
       "   Number of Unique Items Average Price  Number of Purchases Total Revenue\n",
       "0                     179         $3.05                  780     $2,379.77"
      ]
     },
     "execution_count": 11,
     "metadata": {},
     "output_type": "execute_result"
    }
   ],
   "source": [
    "# Display dataframe\n",
    "purchase_summary_df"
   ]
  },
  {
   "cell_type": "markdown",
   "id": "49a18e6b",
   "metadata": {},
   "source": [
    "# Gender Demographics"
   ]
  },
  {
   "cell_type": "code",
   "execution_count": 12,
   "id": "044a2260",
   "metadata": {},
   "outputs": [],
   "source": [
    "# Remove duplicate SNs to create new dataframe of unique players and gender\n",
    "unique_players_df = purchase_data.drop_duplicates([\"SN\"]).copy()"
   ]
  },
  {
   "cell_type": "code",
   "execution_count": 13,
   "id": "08b60f20",
   "metadata": {},
   "outputs": [],
   "source": [
    "# Find counts for each gender of unique players\n",
    "gender_count = unique_players_df[\"Gender\"].value_counts()"
   ]
  },
  {
   "cell_type": "code",
   "execution_count": 14,
   "id": "b10f45f6",
   "metadata": {},
   "outputs": [],
   "source": [
    "# Calculate gender precentage\n",
    "gender_precent = gender_count/player_count*100"
   ]
  },
  {
   "cell_type": "code",
   "execution_count": 15,
   "id": "6a85acdd",
   "metadata": {},
   "outputs": [],
   "source": [
    "# Create new dataframe with gender counts and their percentage\n",
    "gender_count_df = pd.DataFrame({\"Total Count\": gender_count, \"Percentage of Players\":gender_precent})"
   ]
  },
  {
   "cell_type": "code",
   "execution_count": 16,
   "id": "8d23a333",
   "metadata": {},
   "outputs": [],
   "source": [
    "# Format percentage\n",
    "gender_count_df[\"Percentage of Players\"] = gender_count_df[\"Percentage of Players\"].map(\"{:.2f}%\".format)"
   ]
  },
  {
   "cell_type": "code",
   "execution_count": 17,
   "id": "cdd96686",
   "metadata": {},
   "outputs": [
    {
     "data": {
      "text/html": [
       "<div>\n",
       "<style scoped>\n",
       "    .dataframe tbody tr th:only-of-type {\n",
       "        vertical-align: middle;\n",
       "    }\n",
       "\n",
       "    .dataframe tbody tr th {\n",
       "        vertical-align: top;\n",
       "    }\n",
       "\n",
       "    .dataframe thead th {\n",
       "        text-align: right;\n",
       "    }\n",
       "</style>\n",
       "<table border=\"1\" class=\"dataframe\">\n",
       "  <thead>\n",
       "    <tr style=\"text-align: right;\">\n",
       "      <th></th>\n",
       "      <th>Total Count</th>\n",
       "      <th>Percentage of Players</th>\n",
       "    </tr>\n",
       "  </thead>\n",
       "  <tbody>\n",
       "    <tr>\n",
       "      <th>Male</th>\n",
       "      <td>484</td>\n",
       "      <td>84.03%</td>\n",
       "    </tr>\n",
       "    <tr>\n",
       "      <th>Female</th>\n",
       "      <td>81</td>\n",
       "      <td>14.06%</td>\n",
       "    </tr>\n",
       "    <tr>\n",
       "      <th>Other / Non-Disclosed</th>\n",
       "      <td>11</td>\n",
       "      <td>1.91%</td>\n",
       "    </tr>\n",
       "  </tbody>\n",
       "</table>\n",
       "</div>"
      ],
      "text/plain": [
       "                       Total Count Percentage of Players\n",
       "Male                           484                84.03%\n",
       "Female                          81                14.06%\n",
       "Other / Non-Disclosed           11                 1.91%"
      ]
     },
     "execution_count": 17,
     "metadata": {},
     "output_type": "execute_result"
    }
   ],
   "source": [
    "# Display gender count dataframe\n",
    "gender_count_df"
   ]
  },
  {
   "cell_type": "markdown",
   "id": "9a16656d",
   "metadata": {},
   "source": [
    "# Purchasing Analysis (Gender)"
   ]
  },
  {
   "cell_type": "code",
   "execution_count": 18,
   "id": "8d6e47f4",
   "metadata": {},
   "outputs": [],
   "source": [
    "# Group by gender\n",
    "grouped_gender_df = purchase_data.groupby(\"Gender\")"
   ]
  },
  {
   "cell_type": "code",
   "execution_count": 19,
   "id": "4cda9d17",
   "metadata": {},
   "outputs": [],
   "source": [
    "# Find number of unique players in group\n",
    "players_in_gender_group = grouped_gender_df[\"SN\"].nunique()"
   ]
  },
  {
   "cell_type": "code",
   "execution_count": 20,
   "id": "297d3540",
   "metadata": {},
   "outputs": [],
   "source": [
    "# Calculate purchase count, average purchase price, total purchase, and average purchase per unique player\n",
    "purchase_count = grouped_gender_df[\"Purchase ID\"].count()\n",
    "avg_purchase_price = grouped_gender_df[\"Price\"].mean()\n",
    "total_purchase = grouped_gender_df[\"Price\"].sum()\n",
    "avg_per_person = total_purchase/players_in_gender_group"
   ]
  },
  {
   "cell_type": "code",
   "execution_count": 21,
   "id": "025494a1",
   "metadata": {},
   "outputs": [],
   "source": [
    "# Create purchase summary dataframe\n",
    "purchase_summary_df = pd.DataFrame({\"Count\":purchase_count,\n",
    "                                    \"Average Purchase Price\":avg_purchase_price,\n",
    "                                    \"Total Purchase Value\":total_purchase,\n",
    "                                    \"Avg Total Purchase per Person\":avg_per_person\n",
    "                                   })"
   ]
  },
  {
   "cell_type": "code",
   "execution_count": 22,
   "id": "2d46cdc3",
   "metadata": {},
   "outputs": [],
   "source": [
    "# Format currency values\n",
    "purchase_summary_df[\"Average Purchase Price\"] = purchase_summary_df[\"Average Purchase Price\"].map(\"${:.2f}\".format)\n",
    "purchase_summary_df[\"Total Purchase Value\"] = purchase_summary_df[\"Total Purchase Value\"].map(\"${:,.2f}\".format)\n",
    "purchase_summary_df[\"Avg Total Purchase per Person\"] = purchase_summary_df[\"Avg Total Purchase per Person\"].map(\"${:.2f}\".format)"
   ]
  },
  {
   "cell_type": "code",
   "execution_count": 23,
   "id": "ed9f52e6",
   "metadata": {},
   "outputs": [
    {
     "data": {
      "text/html": [
       "<div>\n",
       "<style scoped>\n",
       "    .dataframe tbody tr th:only-of-type {\n",
       "        vertical-align: middle;\n",
       "    }\n",
       "\n",
       "    .dataframe tbody tr th {\n",
       "        vertical-align: top;\n",
       "    }\n",
       "\n",
       "    .dataframe thead th {\n",
       "        text-align: right;\n",
       "    }\n",
       "</style>\n",
       "<table border=\"1\" class=\"dataframe\">\n",
       "  <thead>\n",
       "    <tr style=\"text-align: right;\">\n",
       "      <th></th>\n",
       "      <th>Count</th>\n",
       "      <th>Average Purchase Price</th>\n",
       "      <th>Total Purchase Value</th>\n",
       "      <th>Avg Total Purchase per Person</th>\n",
       "    </tr>\n",
       "    <tr>\n",
       "      <th>Gender</th>\n",
       "      <th></th>\n",
       "      <th></th>\n",
       "      <th></th>\n",
       "      <th></th>\n",
       "    </tr>\n",
       "  </thead>\n",
       "  <tbody>\n",
       "    <tr>\n",
       "      <th>Female</th>\n",
       "      <td>113</td>\n",
       "      <td>$3.20</td>\n",
       "      <td>$361.94</td>\n",
       "      <td>$4.47</td>\n",
       "    </tr>\n",
       "    <tr>\n",
       "      <th>Male</th>\n",
       "      <td>652</td>\n",
       "      <td>$3.02</td>\n",
       "      <td>$1,967.64</td>\n",
       "      <td>$4.07</td>\n",
       "    </tr>\n",
       "    <tr>\n",
       "      <th>Other / Non-Disclosed</th>\n",
       "      <td>15</td>\n",
       "      <td>$3.35</td>\n",
       "      <td>$50.19</td>\n",
       "      <td>$4.56</td>\n",
       "    </tr>\n",
       "  </tbody>\n",
       "</table>\n",
       "</div>"
      ],
      "text/plain": [
       "                       Count Average Purchase Price Total Purchase Value  \\\n",
       "Gender                                                                     \n",
       "Female                   113                  $3.20              $361.94   \n",
       "Male                     652                  $3.02            $1,967.64   \n",
       "Other / Non-Disclosed     15                  $3.35               $50.19   \n",
       "\n",
       "                      Avg Total Purchase per Person  \n",
       "Gender                                               \n",
       "Female                                        $4.47  \n",
       "Male                                          $4.07  \n",
       "Other / Non-Disclosed                         $4.56  "
      ]
     },
     "execution_count": 23,
     "metadata": {},
     "output_type": "execute_result"
    }
   ],
   "source": [
    "# Display dataframe\n",
    "purchase_summary_df"
   ]
  },
  {
   "cell_type": "markdown",
   "id": "4bb59b98",
   "metadata": {},
   "source": [
    "# Age Demographics"
   ]
  },
  {
   "cell_type": "code",
   "execution_count": 24,
   "id": "c76fc575",
   "metadata": {},
   "outputs": [],
   "source": [
    "# Find highest age in dataframe\n",
    "highest_age = unique_players_df[\"Age\"].max()\n",
    "\n",
    "# Create bins for ages with highest_age as upper limit\n",
    "age_bins = [0,9,14,19,24,29,34,39,highest_age]\n",
    "\n",
    "# Create names for bins\n",
    "age_bins_names = [\"<10\", \"10-14\", \"15-19\", \"20-24\", \"25-29\", \"30-34\", \"35-39\", \"40+\"]"
   ]
  },
  {
   "cell_type": "code",
   "execution_count": 25,
   "id": "b4cfd647",
   "metadata": {},
   "outputs": [],
   "source": [
    "# Slice data, place it into bins, add new column into unique_players_df\n",
    "unique_players_df[\"Age Ranges\"]= pd.cut(unique_players_df[\"Age\"], age_bins, labels = age_bins_names)"
   ]
  },
  {
   "cell_type": "code",
   "execution_count": 26,
   "id": "df9ac076",
   "metadata": {},
   "outputs": [],
   "source": [
    "# Find number of players in each group\n",
    "group_player_count = unique_players_df[\"Age Ranges\"].value_counts(sort = False)"
   ]
  },
  {
   "cell_type": "code",
   "execution_count": 27,
   "id": "a507669e",
   "metadata": {},
   "outputs": [],
   "source": [
    "# Calculate percentage of player in each group\n",
    "age_group_percent = group_player_count/player_count*100"
   ]
  },
  {
   "cell_type": "code",
   "execution_count": 28,
   "id": "9e6a9b62",
   "metadata": {},
   "outputs": [],
   "source": [
    "# Create new dataframe\n",
    "age_group_df = pd.DataFrame({\"Total Count\":group_player_count,\"Percentage of Players\":age_group_percent})"
   ]
  },
  {
   "cell_type": "code",
   "execution_count": 29,
   "id": "20f33383",
   "metadata": {},
   "outputs": [],
   "source": [
    "# Format percentage\n",
    "age_group_df[\"Percentage of Players\"] = age_group_df[\"Percentage of Players\"].map(\"${:.2f}\".format)"
   ]
  },
  {
   "cell_type": "code",
   "execution_count": 30,
   "id": "6aaa6b20",
   "metadata": {},
   "outputs": [
    {
     "data": {
      "text/html": [
       "<div>\n",
       "<style scoped>\n",
       "    .dataframe tbody tr th:only-of-type {\n",
       "        vertical-align: middle;\n",
       "    }\n",
       "\n",
       "    .dataframe tbody tr th {\n",
       "        vertical-align: top;\n",
       "    }\n",
       "\n",
       "    .dataframe thead th {\n",
       "        text-align: right;\n",
       "    }\n",
       "</style>\n",
       "<table border=\"1\" class=\"dataframe\">\n",
       "  <thead>\n",
       "    <tr style=\"text-align: right;\">\n",
       "      <th></th>\n",
       "      <th>Total Count</th>\n",
       "      <th>Percentage of Players</th>\n",
       "    </tr>\n",
       "  </thead>\n",
       "  <tbody>\n",
       "    <tr>\n",
       "      <th>&lt;10</th>\n",
       "      <td>17</td>\n",
       "      <td>$2.95</td>\n",
       "    </tr>\n",
       "    <tr>\n",
       "      <th>10-14</th>\n",
       "      <td>22</td>\n",
       "      <td>$3.82</td>\n",
       "    </tr>\n",
       "    <tr>\n",
       "      <th>15-19</th>\n",
       "      <td>107</td>\n",
       "      <td>$18.58</td>\n",
       "    </tr>\n",
       "    <tr>\n",
       "      <th>20-24</th>\n",
       "      <td>258</td>\n",
       "      <td>$44.79</td>\n",
       "    </tr>\n",
       "    <tr>\n",
       "      <th>25-29</th>\n",
       "      <td>77</td>\n",
       "      <td>$13.37</td>\n",
       "    </tr>\n",
       "    <tr>\n",
       "      <th>30-34</th>\n",
       "      <td>52</td>\n",
       "      <td>$9.03</td>\n",
       "    </tr>\n",
       "    <tr>\n",
       "      <th>35-39</th>\n",
       "      <td>31</td>\n",
       "      <td>$5.38</td>\n",
       "    </tr>\n",
       "    <tr>\n",
       "      <th>40+</th>\n",
       "      <td>12</td>\n",
       "      <td>$2.08</td>\n",
       "    </tr>\n",
       "  </tbody>\n",
       "</table>\n",
       "</div>"
      ],
      "text/plain": [
       "       Total Count Percentage of Players\n",
       "<10             17                 $2.95\n",
       "10-14           22                 $3.82\n",
       "15-19          107                $18.58\n",
       "20-24          258                $44.79\n",
       "25-29           77                $13.37\n",
       "30-34           52                 $9.03\n",
       "35-39           31                 $5.38\n",
       "40+             12                 $2.08"
      ]
     },
     "execution_count": 30,
     "metadata": {},
     "output_type": "execute_result"
    }
   ],
   "source": [
    "# Display dataframe\n",
    "age_group_df"
   ]
  },
  {
   "cell_type": "markdown",
   "id": "6076ae4f",
   "metadata": {},
   "source": [
    "# Purchasing Analysis (Age)"
   ]
  },
  {
   "cell_type": "code",
   "execution_count": 31,
   "id": "554e0c28",
   "metadata": {},
   "outputs": [],
   "source": [
    "# Add binned age ranges column to purchase_data dataframe\n",
    "purchase_data[\"Age Ranges\"] = pd.cut(purchase_data[\"Age\"], age_bins, labels = age_bins_names)"
   ]
  },
  {
   "cell_type": "code",
   "execution_count": 32,
   "id": "a9e042b5",
   "metadata": {},
   "outputs": [],
   "source": [
    "# Group by age ranges\n",
    "grouped_age_df = purchase_data.groupby([\"Age Ranges\"])"
   ]
  },
  {
   "cell_type": "code",
   "execution_count": 33,
   "id": "aa734ed6",
   "metadata": {},
   "outputs": [],
   "source": [
    "# Find number of unique players in each group\n",
    "players_in_age_group = grouped_age_df['SN'].nunique()"
   ]
  },
  {
   "cell_type": "code",
   "execution_count": 34,
   "id": "7fb6558f",
   "metadata": {},
   "outputs": [],
   "source": [
    "# Find values\n",
    "purchase_count2 = grouped_age_df[\"Purchase ID\"].count()\n",
    "avg_purchase_price2 = grouped_age_df[\"Price\"].mean()\n",
    "total_purchase2 = grouped_age_df[\"Price\"].sum()\n",
    "avg_per_person2 = total_purchase2/players_in_age_group"
   ]
  },
  {
   "cell_type": "code",
   "execution_count": 35,
   "id": "d8b4fd8a",
   "metadata": {},
   "outputs": [],
   "source": [
    "# Create new dataframe\n",
    "age_purchase_summary_df = pd.DataFrame({\"Purchase Count\":purchase_count2,\n",
    "                                        \"Average Purchase Price\":avg_purchase_price2,\n",
    "                                        \"Total Purchase Value\":total_purchase2,\n",
    "                                        \"Avg Total Purchase per Person\":avg_per_person2  \n",
    "                                       })"
   ]
  },
  {
   "cell_type": "code",
   "execution_count": 36,
   "id": "5770e9ab",
   "metadata": {},
   "outputs": [],
   "source": [
    "# Format currency values\n",
    "age_purchase_summary_df[\"Average Purchase Price\"] = age_purchase_summary_df[\"Average Purchase Price\"].map(\"${:.2f}\".format)\n",
    "age_purchase_summary_df[\"Total Purchase Value\"] = age_purchase_summary_df[\"Total Purchase Value\"].map(\"${:,.2f}\".format)\n",
    "age_purchase_summary_df[\"Avg Total Purchase per Person\"] = age_purchase_summary_df[\"Avg Total Purchase per Person\"].map(\"${:.2f}\".format)"
   ]
  },
  {
   "cell_type": "code",
   "execution_count": 37,
   "id": "54bacd1e",
   "metadata": {},
   "outputs": [
    {
     "data": {
      "text/html": [
       "<div>\n",
       "<style scoped>\n",
       "    .dataframe tbody tr th:only-of-type {\n",
       "        vertical-align: middle;\n",
       "    }\n",
       "\n",
       "    .dataframe tbody tr th {\n",
       "        vertical-align: top;\n",
       "    }\n",
       "\n",
       "    .dataframe thead th {\n",
       "        text-align: right;\n",
       "    }\n",
       "</style>\n",
       "<table border=\"1\" class=\"dataframe\">\n",
       "  <thead>\n",
       "    <tr style=\"text-align: right;\">\n",
       "      <th></th>\n",
       "      <th>Purchase Count</th>\n",
       "      <th>Average Purchase Price</th>\n",
       "      <th>Total Purchase Value</th>\n",
       "      <th>Avg Total Purchase per Person</th>\n",
       "    </tr>\n",
       "    <tr>\n",
       "      <th>Age Ranges</th>\n",
       "      <th></th>\n",
       "      <th></th>\n",
       "      <th></th>\n",
       "      <th></th>\n",
       "    </tr>\n",
       "  </thead>\n",
       "  <tbody>\n",
       "    <tr>\n",
       "      <th>&lt;10</th>\n",
       "      <td>23</td>\n",
       "      <td>$3.35</td>\n",
       "      <td>$77.13</td>\n",
       "      <td>$4.54</td>\n",
       "    </tr>\n",
       "    <tr>\n",
       "      <th>10-14</th>\n",
       "      <td>28</td>\n",
       "      <td>$2.96</td>\n",
       "      <td>$82.78</td>\n",
       "      <td>$3.76</td>\n",
       "    </tr>\n",
       "    <tr>\n",
       "      <th>15-19</th>\n",
       "      <td>136</td>\n",
       "      <td>$3.04</td>\n",
       "      <td>$412.89</td>\n",
       "      <td>$3.86</td>\n",
       "    </tr>\n",
       "    <tr>\n",
       "      <th>20-24</th>\n",
       "      <td>365</td>\n",
       "      <td>$3.05</td>\n",
       "      <td>$1,114.06</td>\n",
       "      <td>$4.32</td>\n",
       "    </tr>\n",
       "    <tr>\n",
       "      <th>25-29</th>\n",
       "      <td>101</td>\n",
       "      <td>$2.90</td>\n",
       "      <td>$293.00</td>\n",
       "      <td>$3.81</td>\n",
       "    </tr>\n",
       "    <tr>\n",
       "      <th>30-34</th>\n",
       "      <td>73</td>\n",
       "      <td>$2.93</td>\n",
       "      <td>$214.00</td>\n",
       "      <td>$4.12</td>\n",
       "    </tr>\n",
       "    <tr>\n",
       "      <th>35-39</th>\n",
       "      <td>41</td>\n",
       "      <td>$3.60</td>\n",
       "      <td>$147.67</td>\n",
       "      <td>$4.76</td>\n",
       "    </tr>\n",
       "    <tr>\n",
       "      <th>40+</th>\n",
       "      <td>13</td>\n",
       "      <td>$2.94</td>\n",
       "      <td>$38.24</td>\n",
       "      <td>$3.19</td>\n",
       "    </tr>\n",
       "  </tbody>\n",
       "</table>\n",
       "</div>"
      ],
      "text/plain": [
       "            Purchase Count Average Purchase Price Total Purchase Value  \\\n",
       "Age Ranges                                                               \n",
       "<10                     23                  $3.35               $77.13   \n",
       "10-14                   28                  $2.96               $82.78   \n",
       "15-19                  136                  $3.04              $412.89   \n",
       "20-24                  365                  $3.05            $1,114.06   \n",
       "25-29                  101                  $2.90              $293.00   \n",
       "30-34                   73                  $2.93              $214.00   \n",
       "35-39                   41                  $3.60              $147.67   \n",
       "40+                     13                  $2.94               $38.24   \n",
       "\n",
       "           Avg Total Purchase per Person  \n",
       "Age Ranges                                \n",
       "<10                                $4.54  \n",
       "10-14                              $3.76  \n",
       "15-19                              $3.86  \n",
       "20-24                              $4.32  \n",
       "25-29                              $3.81  \n",
       "30-34                              $4.12  \n",
       "35-39                              $4.76  \n",
       "40+                                $3.19  "
      ]
     },
     "execution_count": 37,
     "metadata": {},
     "output_type": "execute_result"
    }
   ],
   "source": [
    "age_purchase_summary_df"
   ]
  },
  {
   "cell_type": "markdown",
   "id": "1e66053c",
   "metadata": {},
   "source": [
    "# Top Spenders"
   ]
  },
  {
   "cell_type": "code",
   "execution_count": 38,
   "id": "6dcf4153",
   "metadata": {},
   "outputs": [],
   "source": [
    "# Add purchase count column and set to 1\n",
    "purchase_data[\"Purchase Count\"] = 1"
   ]
  },
  {
   "cell_type": "code",
   "execution_count": 39,
   "id": "478dee28",
   "metadata": {},
   "outputs": [],
   "source": [
    "# Group by SN\n",
    "grouped_sn_df = purchase_data.groupby(['SN'])"
   ]
  },
  {
   "cell_type": "code",
   "execution_count": 40,
   "id": "dd27851e",
   "metadata": {},
   "outputs": [],
   "source": [
    "# Calculate total purchase value and count\n",
    "total_purchase = grouped_sn_df['Price'].sum()\n",
    "purchase_count = grouped_sn_df['Purchase Count'].sum()"
   ]
  },
  {
   "cell_type": "code",
   "execution_count": 41,
   "id": "c1974eca",
   "metadata": {},
   "outputs": [],
   "source": [
    "# Calculate average purchase price\n",
    "average_price = total_purchase/purchase_count"
   ]
  },
  {
   "cell_type": "code",
   "execution_count": 42,
   "id": "e95feb57",
   "metadata": {},
   "outputs": [],
   "source": [
    "# Create new dataframe from grouped data\n",
    "top_spenders_df = pd.DataFrame({\"Purchase Count\":purchase_count, \"Average Purchase Price\":average_price, \"Total Purchase Price\": total_purchase})"
   ]
  },
  {
   "cell_type": "code",
   "execution_count": 43,
   "id": "fa478abc",
   "metadata": {},
   "outputs": [],
   "source": [
    "# Sort dataframe by descending total purchase\n",
    "top_spenders_df.sort_values(by=[\"Total Purchase Price\"], inplace=True, ascending = False)"
   ]
  },
  {
   "cell_type": "code",
   "execution_count": 44,
   "id": "80c3b6ff",
   "metadata": {},
   "outputs": [],
   "source": [
    "# Format currency values\n",
    "top_spenders_df[\"Average Purchase Price\"] = top_spenders_df[\"Average Purchase Price\"].map(\"${:.2f}\".format)\n",
    "top_spenders_df[\"Total Purchase Price\"] = top_spenders_df[\"Total Purchase Price\"].map(\"${:.2f}\".format)"
   ]
  },
  {
   "cell_type": "code",
   "execution_count": 45,
   "id": "d00f0512",
   "metadata": {},
   "outputs": [
    {
     "data": {
      "text/html": [
       "<div>\n",
       "<style scoped>\n",
       "    .dataframe tbody tr th:only-of-type {\n",
       "        vertical-align: middle;\n",
       "    }\n",
       "\n",
       "    .dataframe tbody tr th {\n",
       "        vertical-align: top;\n",
       "    }\n",
       "\n",
       "    .dataframe thead th {\n",
       "        text-align: right;\n",
       "    }\n",
       "</style>\n",
       "<table border=\"1\" class=\"dataframe\">\n",
       "  <thead>\n",
       "    <tr style=\"text-align: right;\">\n",
       "      <th></th>\n",
       "      <th>Purchase Count</th>\n",
       "      <th>Average Purchase Price</th>\n",
       "      <th>Total Purchase Price</th>\n",
       "    </tr>\n",
       "    <tr>\n",
       "      <th>SN</th>\n",
       "      <th></th>\n",
       "      <th></th>\n",
       "      <th></th>\n",
       "    </tr>\n",
       "  </thead>\n",
       "  <tbody>\n",
       "    <tr>\n",
       "      <th>Lisosia93</th>\n",
       "      <td>5</td>\n",
       "      <td>$3.79</td>\n",
       "      <td>$18.96</td>\n",
       "    </tr>\n",
       "    <tr>\n",
       "      <th>Idastidru52</th>\n",
       "      <td>4</td>\n",
       "      <td>$3.86</td>\n",
       "      <td>$15.45</td>\n",
       "    </tr>\n",
       "    <tr>\n",
       "      <th>Chamjask73</th>\n",
       "      <td>3</td>\n",
       "      <td>$4.61</td>\n",
       "      <td>$13.83</td>\n",
       "    </tr>\n",
       "    <tr>\n",
       "      <th>Iral74</th>\n",
       "      <td>4</td>\n",
       "      <td>$3.40</td>\n",
       "      <td>$13.62</td>\n",
       "    </tr>\n",
       "    <tr>\n",
       "      <th>Iskadarya95</th>\n",
       "      <td>3</td>\n",
       "      <td>$4.37</td>\n",
       "      <td>$13.10</td>\n",
       "    </tr>\n",
       "  </tbody>\n",
       "</table>\n",
       "</div>"
      ],
      "text/plain": [
       "             Purchase Count Average Purchase Price Total Purchase Price\n",
       "SN                                                                     \n",
       "Lisosia93                 5                  $3.79               $18.96\n",
       "Idastidru52               4                  $3.86               $15.45\n",
       "Chamjask73                3                  $4.61               $13.83\n",
       "Iral74                    4                  $3.40               $13.62\n",
       "Iskadarya95               3                  $4.37               $13.10"
      ]
     },
     "execution_count": 45,
     "metadata": {},
     "output_type": "execute_result"
    }
   ],
   "source": [
    "# Display preview\n",
    "top_spenders_df.head()"
   ]
  },
  {
   "cell_type": "markdown",
   "id": "48331e1f",
   "metadata": {},
   "source": [
    "# Most Popular Items"
   ]
  },
  {
   "cell_type": "code",
   "execution_count": 46,
   "id": "8143d820",
   "metadata": {},
   "outputs": [],
   "source": [
    "# Group by item id and item name\n",
    "grouped_item_df = purchase_data.groupby(['Item ID', 'Item Name'])"
   ]
  },
  {
   "cell_type": "code",
   "execution_count": 47,
   "id": "ac54f4f3",
   "metadata": {},
   "outputs": [],
   "source": [
    "# Find values\n",
    "purchase_count = grouped_item_df['Purchase Count'].sum()\n",
    "item_price = grouped_item_df['Price'].sum()\n",
    "average_item_price = item_price/purchase_count"
   ]
  },
  {
   "cell_type": "code",
   "execution_count": 48,
   "id": "4ad6f534",
   "metadata": {},
   "outputs": [],
   "source": [
    "# Create new dataframe\n",
    "popular_items_df = pd.DataFrame({'Purchase Count':purchase_count, 'Item Price':average_item_price, 'Total Purchase Value': item_price})"
   ]
  },
  {
   "cell_type": "code",
   "execution_count": 49,
   "id": "04b5d6e7",
   "metadata": {},
   "outputs": [],
   "source": [
    "# Sort dataframe by descending purchase count\n",
    "popular_items_df.sort_values(by = 'Purchase Count', inplace = True, ascending = False)"
   ]
  },
  {
   "cell_type": "code",
   "execution_count": 50,
   "id": "10022ab4",
   "metadata": {},
   "outputs": [],
   "source": [
    "# Format currenty values\n",
    "popular_items_df['Item Price'] = popular_items_df['Item Price'].map(\"${:.2f}\".format)\n",
    "popular_items_df['Total Purchase Value'] = popular_items_df['Total Purchase Value'].map(\"${:.2f}\".format)"
   ]
  },
  {
   "cell_type": "code",
   "execution_count": 51,
   "id": "aad259fe",
   "metadata": {},
   "outputs": [
    {
     "data": {
      "text/html": [
       "<div>\n",
       "<style scoped>\n",
       "    .dataframe tbody tr th:only-of-type {\n",
       "        vertical-align: middle;\n",
       "    }\n",
       "\n",
       "    .dataframe tbody tr th {\n",
       "        vertical-align: top;\n",
       "    }\n",
       "\n",
       "    .dataframe thead th {\n",
       "        text-align: right;\n",
       "    }\n",
       "</style>\n",
       "<table border=\"1\" class=\"dataframe\">\n",
       "  <thead>\n",
       "    <tr style=\"text-align: right;\">\n",
       "      <th></th>\n",
       "      <th></th>\n",
       "      <th>Purchase Count</th>\n",
       "      <th>Item Price</th>\n",
       "      <th>Total Purchase Value</th>\n",
       "    </tr>\n",
       "    <tr>\n",
       "      <th>Item ID</th>\n",
       "      <th>Item Name</th>\n",
       "      <th></th>\n",
       "      <th></th>\n",
       "      <th></th>\n",
       "    </tr>\n",
       "  </thead>\n",
       "  <tbody>\n",
       "    <tr>\n",
       "      <th>92</th>\n",
       "      <th>Final Critic</th>\n",
       "      <td>13</td>\n",
       "      <td>$4.61</td>\n",
       "      <td>$59.99</td>\n",
       "    </tr>\n",
       "    <tr>\n",
       "      <th>178</th>\n",
       "      <th>Oathbreaker, Last Hope of the Breaking Storm</th>\n",
       "      <td>12</td>\n",
       "      <td>$4.23</td>\n",
       "      <td>$50.76</td>\n",
       "    </tr>\n",
       "    <tr>\n",
       "      <th>145</th>\n",
       "      <th>Fiery Glass Crusader</th>\n",
       "      <td>9</td>\n",
       "      <td>$4.58</td>\n",
       "      <td>$41.22</td>\n",
       "    </tr>\n",
       "    <tr>\n",
       "      <th>132</th>\n",
       "      <th>Persuasion</th>\n",
       "      <td>9</td>\n",
       "      <td>$3.22</td>\n",
       "      <td>$28.99</td>\n",
       "    </tr>\n",
       "    <tr>\n",
       "      <th>108</th>\n",
       "      <th>Extraction, Quickblade Of Trembling Hands</th>\n",
       "      <td>9</td>\n",
       "      <td>$3.53</td>\n",
       "      <td>$31.77</td>\n",
       "    </tr>\n",
       "  </tbody>\n",
       "</table>\n",
       "</div>"
      ],
      "text/plain": [
       "                                                      Purchase Count  \\\n",
       "Item ID Item Name                                                      \n",
       "92      Final Critic                                              13   \n",
       "178     Oathbreaker, Last Hope of the Breaking Storm              12   \n",
       "145     Fiery Glass Crusader                                       9   \n",
       "132     Persuasion                                                 9   \n",
       "108     Extraction, Quickblade Of Trembling Hands                  9   \n",
       "\n",
       "                                                     Item Price  \\\n",
       "Item ID Item Name                                                 \n",
       "92      Final Critic                                      $4.61   \n",
       "178     Oathbreaker, Last Hope of the Breaking Storm      $4.23   \n",
       "145     Fiery Glass Crusader                              $4.58   \n",
       "132     Persuasion                                        $3.22   \n",
       "108     Extraction, Quickblade Of Trembling Hands         $3.53   \n",
       "\n",
       "                                                     Total Purchase Value  \n",
       "Item ID Item Name                                                          \n",
       "92      Final Critic                                               $59.99  \n",
       "178     Oathbreaker, Last Hope of the Breaking Storm               $50.76  \n",
       "145     Fiery Glass Crusader                                       $41.22  \n",
       "132     Persuasion                                                 $28.99  \n",
       "108     Extraction, Quickblade Of Trembling Hands                  $31.77  "
      ]
     },
     "execution_count": 51,
     "metadata": {},
     "output_type": "execute_result"
    }
   ],
   "source": [
    "popular_items_df.head()"
   ]
  },
  {
   "cell_type": "markdown",
   "id": "4ad50db1",
   "metadata": {},
   "source": [
    "# Most Profitable Items"
   ]
  },
  {
   "cell_type": "code",
   "execution_count": 52,
   "id": "27a7fce5",
   "metadata": {},
   "outputs": [],
   "source": [
    "# Create copy of dataframe\n",
    "profitable_items_df = popular_items_df.copy()"
   ]
  },
  {
   "cell_type": "code",
   "execution_count": 53,
   "id": "627d0070",
   "metadata": {},
   "outputs": [
    {
     "name": "stderr",
     "output_type": "stream",
     "text": [
      "<ipython-input-53-2625278204ed>:2: FutureWarning: The default value of regex will change from True to False in a future version. In addition, single character regular expressions will*not* be treated as literal strings when regex=True.\n",
      "  profitable_items_df[\"Total Purchase Value\"] = profitable_items_df[\"Total Purchase Value\"].str.replace(\"$\", \"\").astype('float')\n"
     ]
    }
   ],
   "source": [
    "# Convert total purchase value column to float\n",
    "profitable_items_df[\"Total Purchase Value\"] = profitable_items_df[\"Total Purchase Value\"].str.replace(\"$\", \"\").astype('float')"
   ]
  },
  {
   "cell_type": "code",
   "execution_count": 54,
   "id": "a1cc188d",
   "metadata": {},
   "outputs": [],
   "source": [
    "# Sort dataframe by descending total purchase value\n",
    "profitable_items_df.sort_values(by = \"Total Purchase Value\", inplace = True, ascending = False)"
   ]
  },
  {
   "cell_type": "code",
   "execution_count": 55,
   "id": "d4ea8a9a",
   "metadata": {},
   "outputs": [],
   "source": [
    "# Reformat total purchase value to currency\n",
    "profitable_items_df[\"Total Purchase Value\"] = profitable_items_df[\"Total Purchase Value\"].map(\"${:.2f}\".format)"
   ]
  },
  {
   "cell_type": "code",
   "execution_count": 56,
   "id": "4644d595",
   "metadata": {},
   "outputs": [
    {
     "data": {
      "text/html": [
       "<div>\n",
       "<style scoped>\n",
       "    .dataframe tbody tr th:only-of-type {\n",
       "        vertical-align: middle;\n",
       "    }\n",
       "\n",
       "    .dataframe tbody tr th {\n",
       "        vertical-align: top;\n",
       "    }\n",
       "\n",
       "    .dataframe thead th {\n",
       "        text-align: right;\n",
       "    }\n",
       "</style>\n",
       "<table border=\"1\" class=\"dataframe\">\n",
       "  <thead>\n",
       "    <tr style=\"text-align: right;\">\n",
       "      <th></th>\n",
       "      <th></th>\n",
       "      <th>Purchase Count</th>\n",
       "      <th>Item Price</th>\n",
       "      <th>Total Purchase Value</th>\n",
       "    </tr>\n",
       "    <tr>\n",
       "      <th>Item ID</th>\n",
       "      <th>Item Name</th>\n",
       "      <th></th>\n",
       "      <th></th>\n",
       "      <th></th>\n",
       "    </tr>\n",
       "  </thead>\n",
       "  <tbody>\n",
       "    <tr>\n",
       "      <th>92</th>\n",
       "      <th>Final Critic</th>\n",
       "      <td>13</td>\n",
       "      <td>$4.61</td>\n",
       "      <td>$59.99</td>\n",
       "    </tr>\n",
       "    <tr>\n",
       "      <th>178</th>\n",
       "      <th>Oathbreaker, Last Hope of the Breaking Storm</th>\n",
       "      <td>12</td>\n",
       "      <td>$4.23</td>\n",
       "      <td>$50.76</td>\n",
       "    </tr>\n",
       "    <tr>\n",
       "      <th>82</th>\n",
       "      <th>Nirvana</th>\n",
       "      <td>9</td>\n",
       "      <td>$4.90</td>\n",
       "      <td>$44.10</td>\n",
       "    </tr>\n",
       "    <tr>\n",
       "      <th>145</th>\n",
       "      <th>Fiery Glass Crusader</th>\n",
       "      <td>9</td>\n",
       "      <td>$4.58</td>\n",
       "      <td>$41.22</td>\n",
       "    </tr>\n",
       "    <tr>\n",
       "      <th>103</th>\n",
       "      <th>Singed Scalpel</th>\n",
       "      <td>8</td>\n",
       "      <td>$4.35</td>\n",
       "      <td>$34.80</td>\n",
       "    </tr>\n",
       "  </tbody>\n",
       "</table>\n",
       "</div>"
      ],
      "text/plain": [
       "                                                      Purchase Count  \\\n",
       "Item ID Item Name                                                      \n",
       "92      Final Critic                                              13   \n",
       "178     Oathbreaker, Last Hope of the Breaking Storm              12   \n",
       "82      Nirvana                                                    9   \n",
       "145     Fiery Glass Crusader                                       9   \n",
       "103     Singed Scalpel                                             8   \n",
       "\n",
       "                                                     Item Price  \\\n",
       "Item ID Item Name                                                 \n",
       "92      Final Critic                                      $4.61   \n",
       "178     Oathbreaker, Last Hope of the Breaking Storm      $4.23   \n",
       "82      Nirvana                                           $4.90   \n",
       "145     Fiery Glass Crusader                              $4.58   \n",
       "103     Singed Scalpel                                    $4.35   \n",
       "\n",
       "                                                     Total Purchase Value  \n",
       "Item ID Item Name                                                          \n",
       "92      Final Critic                                               $59.99  \n",
       "178     Oathbreaker, Last Hope of the Breaking Storm               $50.76  \n",
       "82      Nirvana                                                    $44.10  \n",
       "145     Fiery Glass Crusader                                       $41.22  \n",
       "103     Singed Scalpel                                             $34.80  "
      ]
     },
     "execution_count": 56,
     "metadata": {},
     "output_type": "execute_result"
    }
   ],
   "source": [
    "# Display dataframe\n",
    "profitable_items_df.head()"
   ]
  }
 ],
 "metadata": {
  "kernelspec": {
   "display_name": "Python 3",
   "language": "python",
   "name": "python3"
  },
  "language_info": {
   "codemirror_mode": {
    "name": "ipython",
    "version": 3
   },
   "file_extension": ".py",
   "mimetype": "text/x-python",
   "name": "python",
   "nbconvert_exporter": "python",
   "pygments_lexer": "ipython3",
   "version": "3.8.8"
  }
 },
 "nbformat": 4,
 "nbformat_minor": 5
}
